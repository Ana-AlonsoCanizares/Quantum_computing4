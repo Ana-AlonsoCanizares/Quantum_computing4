{
  "nbformat": 4,
  "nbformat_minor": 0,
  "metadata": {
    "colab": {
      "provenance": [],
      "authorship_tag": "ABX9TyOUERVVqxP2maH3RXQFJWq5",
      "include_colab_link": true
    },
    "kernelspec": {
      "name": "python3",
      "display_name": "Python 3"
    },
    "language_info": {
      "name": "python"
    }
  },
  "cells": [
    {
      "cell_type": "markdown",
      "metadata": {
        "id": "view-in-github",
        "colab_type": "text"
      },
      "source": [
        "<a href=\"https://colab.research.google.com/github/Ana-AlonsoCanizares/Quantum_computing4/blob/main/SVM_QC2.ipynb\" target=\"_parent\"><img src=\"https://colab.research.google.com/assets/colab-badge.svg\" alt=\"Open In Colab\"/></a>"
      ]
    },
    {
      "cell_type": "code",
      "execution_count": 33,
      "metadata": {
        "id": "lM3MKFBZoccI"
      },
      "outputs": [],
      "source": [
        "from sklearn import datasets, svm, metrics\n",
        "from sklearn.model_selection import train_test_split, cross_val_score\n",
        "from sklearn.svm import SVC\n",
        "import matplotlib.pyplot as plt\n",
        "import pandas as pd"
      ]
    },
    {
      "cell_type": "code",
      "source": [
        "# Datos de entrenamiento y prueba\n",
        "X_train = [[0],[2],[4],[5],[7]]\n",
        "y_train = [[1],[1],[0],[1],[1]]\n",
        "\n",
        "X_test = [[1],[3],[6]]\n",
        "y_test = [[1],[0],[1]]"
      ],
      "metadata": {
        "id": "I2dT-Ss6ogTF"
      },
      "execution_count": 34,
      "outputs": []
    },
    {
      "cell_type": "code",
      "source": [
        "# Crear un modelo SVM: linear\n",
        "svm_model_1 = SVC(kernel='linear')\n",
        "\n",
        "# Entrenar el modelo en el conjunto de entrenamiento\n",
        "svm_model_1.fit(X_train, y_train)\n",
        "\n",
        "# Realizar predicciones en el conjunto de prueba\n",
        "y_pred = svm_model_1.predict(X_test)\n",
        "\n",
        "# Calcular la precisión en el conjunto de prueba\n",
        "accuracy = svm_model_1.score(X_test, y_test)\n",
        "print(f'Precisión en el conjunto de prueba: {accuracy * 100:.2f}%')"
      ],
      "metadata": {
        "colab": {
          "base_uri": "https://localhost:8080/"
        },
        "id": "hVnihndfo6Qc",
        "outputId": "c95e41fe-8999-4018-8a0c-3b7d4d480d88"
      },
      "execution_count": 35,
      "outputs": [
        {
          "output_type": "stream",
          "name": "stdout",
          "text": [
            "Precisión en el conjunto de prueba: 66.67%\n"
          ]
        },
        {
          "output_type": "stream",
          "name": "stderr",
          "text": [
            "/usr/local/lib/python3.10/dist-packages/sklearn/utils/validation.py:1143: DataConversionWarning: A column-vector y was passed when a 1d array was expected. Please change the shape of y to (n_samples, ), for example using ravel().\n",
            "  y = column_or_1d(y, warn=True)\n"
          ]
        }
      ]
    },
    {
      "cell_type": "code",
      "source": [
        "# Creamos una nueva X_train_new con el kernell (x,(x-3.5)^2)\n",
        "# Debido a que este está centrado en 3.5\n",
        "X_train_new = [[3.5**2],[1.5**2],[0.5**2],[1.5**2],[3.5**2]]\n",
        "X_test_new = [[2.5**2],[0.5**2],[2.5**2]]"
      ],
      "metadata": {
        "id": "YCaifXSSp9yI"
      },
      "execution_count": 39,
      "outputs": []
    },
    {
      "cell_type": "code",
      "source": [
        "# Crear un modelo SVM: linear\n",
        "svm_model_2 = SVC(kernel='linear')\n",
        "\n",
        "# Entrenar el modelo en el conjunto de entrenamiento\n",
        "svm_model_2.fit(X_train_new, y_train)\n",
        "\n",
        "# Realizar predicciones en el conjunto de prueba\n",
        "y_pred = svm_model_2.predict(X_test_new)\n",
        "\n",
        "# Calcular la precisión en el conjunto de prueba que al cambiar los datos con\n",
        "# el kernell (x,(x-3.5)^2) tiene que devolver una precisión del 100%\n",
        "accuracy = svm_model_2.score(X_test_new, y_test)\n",
        "print(f'Precisión en el conjunto de prueba: {accuracy * 100:.2f}%')"
      ],
      "metadata": {
        "colab": {
          "base_uri": "https://localhost:8080/"
        },
        "id": "ZY4zF4Iyrpi5",
        "outputId": "01299f73-c97e-4c9e-d5e5-f3d94ebf1bef"
      },
      "execution_count": 40,
      "outputs": [
        {
          "output_type": "stream",
          "name": "stdout",
          "text": [
            "Precisión en el conjunto de prueba: 100.00%\n"
          ]
        },
        {
          "output_type": "stream",
          "name": "stderr",
          "text": [
            "/usr/local/lib/python3.10/dist-packages/sklearn/utils/validation.py:1143: DataConversionWarning: A column-vector y was passed when a 1d array was expected. Please change the shape of y to (n_samples, ), for example using ravel().\n",
            "  y = column_or_1d(y, warn=True)\n"
          ]
        }
      ]
    }
  ]
}